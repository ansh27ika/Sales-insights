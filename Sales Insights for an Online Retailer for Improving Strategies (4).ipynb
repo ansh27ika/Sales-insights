{
 "cells": [
  {
   "cell_type": "markdown",
   "id": "3f883ad8",
   "metadata": {},
   "source": [
    "## Importing Libraries:"
   ]
  },
  {
   "cell_type": "code",
   "execution_count": 1,
   "id": "b7af2f49",
   "metadata": {},
   "outputs": [],
   "source": [
    "import pandas as pd\n",
    "import numpy as np\n",
    "import matplotlib.pyplot as plt\n",
    "import seaborn as sns"
   ]
  },
  {
   "cell_type": "markdown",
   "id": "f67a96ec",
   "metadata": {},
   "source": [
    "## `Importing` Dataset:"
   ]
  },
  {
   "cell_type": "code",
   "execution_count": 2,
   "id": "3ac2e7a8",
   "metadata": {},
   "outputs": [],
   "source": [
    "january=pd.read_csv(\"/Users/anshika/Downloads/workshop training/traning project/JANUARY-2021.csv\")\n",
    "february=pd.read_csv(\"/Users/anshika/Downloads/workshop training/traning project/FEBRUARY-2021.csv\")\n",
    "march=pd.read_csv(\"/Users/anshika/Downloads/workshop training/traning project/MARCH-2021.csv\")\n",
    "april=pd.read_csv(\"/Users/anshika/Downloads/workshop training/traning project/APRIL-2021.csv\")\n",
    "may=pd.read_csv(\"/Users/anshika/Downloads/workshop training/traning project/MAY-2021.csv\")\n",
    "june=pd.read_csv(\"/Users/anshika/Downloads/workshop training/traning project/JUNE-2021.csv\")\n",
    "july=pd.read_csv(\"/Users/anshika/Downloads/workshop training/traning project/JULY-2021.csv\")\n",
    "august=pd.read_csv(\"/Users/anshika/Downloads/workshop training/traning project/AUGUST-2021.csv\")\n",
    "september=pd.read_csv(\"/Users/anshika/Downloads/workshop training/traning project/SEPTEMBER-2021.csv\")\n",
    "october=pd.read_csv(\"/Users/anshika/Downloads/workshop training/traning project/OCTOBER-2021.csv\")\n",
    "november=pd.read_csv(\"/Users/anshika/Downloads/workshop training/traning project/NOVEMBER-2021.csv\")\n",
    "december=pd.read_csv(\"/Users/anshika/Downloads/workshop training/traning project/DECEMBER-2021.csv\")"
   ]
  },
  {
   "cell_type": "code",
   "execution_count": 3,
   "id": "ad782fa4",
   "metadata": {},
   "outputs": [],
   "source": [
    "df=pd.concat([january,february,march,april,may,june,july,august,september,october,november,december], axis=0)   "
   ]
  },
  {
   "cell_type": "code",
   "execution_count": 4,
   "id": "442ca4a1",
   "metadata": {},
   "outputs": [
    {
     "data": {
      "text/plain": [
       "(22369, 78)"
      ]
     },
     "execution_count": 4,
     "metadata": {},
     "output_type": "execute_result"
    }
   ],
   "source": [
    "df.shape"
   ]
  },
  {
   "cell_type": "markdown",
   "id": "9a4da115",
   "metadata": {},
   "source": [
    "## `Data Cleaning`:"
   ]
  },
  {
   "cell_type": "markdown",
   "id": "ebceaa61",
   "metadata": {},
   "source": [
    "### Required Columns:"
   ]
  },
  {
   "cell_type": "code",
   "execution_count": 5,
   "id": "688cc54b",
   "metadata": {},
   "outputs": [],
   "source": [
    "df=df[['Invoice Number', 'Invoice Date','Transaction Type','Order Id', 'Shipment Id', 'Shipment Date', 'Order Date',\n",
    "       'Shipment Item Id', 'Quantity', 'Item Description', 'Asin', 'Hsn/sac',\n",
    "       'Sku', 'Product Tax Code','Ship To City', 'Ship To State','Invoice Amount','Payment Method Code','Total Tax Amount']]"
   ]
  },
  {
   "cell_type": "markdown",
   "id": "19dc01ee",
   "metadata": {},
   "source": [
    "### Column Names in Lower Case:"
   ]
  },
  {
   "cell_type": "code",
   "execution_count": 6,
   "id": "aeb82116",
   "metadata": {
    "scrolled": true
   },
   "outputs": [],
   "source": [
    "df .columns = [x.lower() for x in df.columns]              \n",
    "df = df.apply(lambda x: x.astype(str).str.lower())"
   ]
  },
  {
   "cell_type": "code",
   "execution_count": 7,
   "id": "0f4c5189-460a-4c05-a579-e48f2813a9a3",
   "metadata": {
    "scrolled": true
   },
   "outputs": [
    {
     "data": {
      "text/plain": [
       "Index(['invoice number', 'invoice date', 'transaction type', 'order id',\n",
       "       'shipment id', 'shipment date', 'order date', 'shipment item id',\n",
       "       'quantity', 'item description', 'asin', 'hsn/sac', 'sku',\n",
       "       'product tax code', 'ship to city', 'ship to state', 'invoice amount',\n",
       "       'payment method code', 'total tax amount'],\n",
       "      dtype='object')"
      ]
     },
     "execution_count": 7,
     "metadata": {},
     "output_type": "execute_result"
    }
   ],
   "source": [
    "df.columns"
   ]
  },
  {
   "cell_type": "code",
   "execution_count": 8,
   "id": "f9324b40",
   "metadata": {},
   "outputs": [
    {
     "data": {
      "text/html": [
       "<div>\n",
       "<style scoped>\n",
       "    .dataframe tbody tr th:only-of-type {\n",
       "        vertical-align: middle;\n",
       "    }\n",
       "\n",
       "    .dataframe tbody tr th {\n",
       "        vertical-align: top;\n",
       "    }\n",
       "\n",
       "    .dataframe thead th {\n",
       "        text-align: right;\n",
       "    }\n",
       "</style>\n",
       "<table border=\"1\" class=\"dataframe\">\n",
       "  <thead>\n",
       "    <tr style=\"text-align: right;\">\n",
       "      <th></th>\n",
       "      <th>invoice number</th>\n",
       "      <th>invoice date</th>\n",
       "      <th>transaction type</th>\n",
       "      <th>order id</th>\n",
       "      <th>shipment id</th>\n",
       "      <th>shipment date</th>\n",
       "      <th>order date</th>\n",
       "      <th>shipment item id</th>\n",
       "      <th>quantity</th>\n",
       "      <th>item description</th>\n",
       "      <th>asin</th>\n",
       "      <th>hsn/sac</th>\n",
       "      <th>sku</th>\n",
       "      <th>product tax code</th>\n",
       "      <th>ship to city</th>\n",
       "      <th>ship to state</th>\n",
       "      <th>invoice amount</th>\n",
       "      <th>payment method code</th>\n",
       "      <th>total tax amount</th>\n",
       "    </tr>\n",
       "  </thead>\n",
       "  <tbody>\n",
       "    <tr>\n",
       "      <th>0</th>\n",
       "      <td>in-688</td>\n",
       "      <td>2020-12-23 09:16:31</td>\n",
       "      <td>refund</td>\n",
       "      <td>405-6906592-3545154</td>\n",
       "      <td>13944360394039</td>\n",
       "      <td>2020-12-26 11:33:05</td>\n",
       "      <td>2020-12-23 08:48:49</td>\n",
       "      <td>268742343161.0</td>\n",
       "      <td>1</td>\n",
       "      <td>the monument shop kedarnath temple miniature r...</td>\n",
       "      <td>b08nzq922r</td>\n",
       "      <td>nan</td>\n",
       "      <td>kedarnath temple</td>\n",
       "      <td>a_gen_standard</td>\n",
       "      <td>darbhanga</td>\n",
       "      <td>bihar</td>\n",
       "      <td>-299.0</td>\n",
       "      <td>cod</td>\n",
       "      <td>-45.61</td>\n",
       "    </tr>\n",
       "    <tr>\n",
       "      <th>1</th>\n",
       "      <td>in-715</td>\n",
       "      <td>2020-12-24 21:28:08</td>\n",
       "      <td>refund</td>\n",
       "      <td>406-2676059-6035527</td>\n",
       "      <td>13302460170039</td>\n",
       "      <td>2020-12-27 10:46:08</td>\n",
       "      <td>2020-12-24 20:59:41</td>\n",
       "      <td>268748313414.0</td>\n",
       "      <td>1</td>\n",
       "      <td>the monument shop baba mahakal sampoorn swaroo...</td>\n",
       "      <td>b08pp95plv</td>\n",
       "      <td>nan</td>\n",
       "      <td>fmk set</td>\n",
       "      <td>a_gen_standard</td>\n",
       "      <td>banswara</td>\n",
       "      <td>rajasthan</td>\n",
       "      <td>-1100.0</td>\n",
       "      <td>cod</td>\n",
       "      <td>-167.8</td>\n",
       "    </tr>\n",
       "    <tr>\n",
       "      <th>2</th>\n",
       "      <td>in-769</td>\n",
       "      <td>2020-12-28 22:02:20</td>\n",
       "      <td>refund</td>\n",
       "      <td>405-7039814-7152300</td>\n",
       "      <td>13741556717039</td>\n",
       "      <td>2020-12-30 12:22:43</td>\n",
       "      <td>2020-12-28 21:32:42</td>\n",
       "      <td>268839192816.0</td>\n",
       "      <td>1</td>\n",
       "      <td>the monument shop sadhu baba handcrafted desig...</td>\n",
       "      <td>b08p12mwcg</td>\n",
       "      <td>nan</td>\n",
       "      <td>sadhu baba</td>\n",
       "      <td>a_gen_standard</td>\n",
       "      <td>gurugram</td>\n",
       "      <td>haryana</td>\n",
       "      <td>-199.0</td>\n",
       "      <td>cod</td>\n",
       "      <td>-30.36</td>\n",
       "    </tr>\n",
       "    <tr>\n",
       "      <th>3</th>\n",
       "      <td>in-754</td>\n",
       "      <td>2020-12-27 21:54:59</td>\n",
       "      <td>refund</td>\n",
       "      <td>403-9739410-9827508</td>\n",
       "      <td>13952486356039</td>\n",
       "      <td>2020-12-29 13:31:35</td>\n",
       "      <td>2020-12-27 21:24:53</td>\n",
       "      <td>268814584956.0</td>\n",
       "      <td>1</td>\n",
       "      <td>the monument shop independance day and republi...</td>\n",
       "      <td>b08q23ks8y</td>\n",
       "      <td>nan</td>\n",
       "      <td>republic set</td>\n",
       "      <td>a_gen_standard</td>\n",
       "      <td>surat</td>\n",
       "      <td>gujarat</td>\n",
       "      <td>-699.0</td>\n",
       "      <td>cod</td>\n",
       "      <td>-106.63</td>\n",
       "    </tr>\n",
       "    <tr>\n",
       "      <th>4</th>\n",
       "      <td>in-804</td>\n",
       "      <td>2020-12-31 14:13:57</td>\n",
       "      <td>mfnshipment</td>\n",
       "      <td>404-2599161-0163525</td>\n",
       "      <td>13982581546039</td>\n",
       "      <td>2021-01-04 11:43:56</td>\n",
       "      <td>2020-12-31 13:38:36</td>\n",
       "      <td>272298891225.0</td>\n",
       "      <td>1</td>\n",
       "      <td>the monument shop kedarnath temple miniature r...</td>\n",
       "      <td>b08nzq922r</td>\n",
       "      <td>nan</td>\n",
       "      <td>kedarnath temple</td>\n",
       "      <td>a_gen_standard</td>\n",
       "      <td>bhavnagar</td>\n",
       "      <td>gujarat</td>\n",
       "      <td>299.0</td>\n",
       "      <td>cod</td>\n",
       "      <td>45.61</td>\n",
       "    </tr>\n",
       "  </tbody>\n",
       "</table>\n",
       "</div>"
      ],
      "text/plain": [
       "  invoice number         invoice date transaction type             order id  \\\n",
       "0         in-688  2020-12-23 09:16:31           refund  405-6906592-3545154   \n",
       "1         in-715  2020-12-24 21:28:08           refund  406-2676059-6035527   \n",
       "2         in-769  2020-12-28 22:02:20           refund  405-7039814-7152300   \n",
       "3         in-754  2020-12-27 21:54:59           refund  403-9739410-9827508   \n",
       "4         in-804  2020-12-31 14:13:57      mfnshipment  404-2599161-0163525   \n",
       "\n",
       "      shipment id        shipment date           order date shipment item id  \\\n",
       "0  13944360394039  2020-12-26 11:33:05  2020-12-23 08:48:49   268742343161.0   \n",
       "1  13302460170039  2020-12-27 10:46:08  2020-12-24 20:59:41   268748313414.0   \n",
       "2  13741556717039  2020-12-30 12:22:43  2020-12-28 21:32:42   268839192816.0   \n",
       "3  13952486356039  2020-12-29 13:31:35  2020-12-27 21:24:53   268814584956.0   \n",
       "4  13982581546039  2021-01-04 11:43:56  2020-12-31 13:38:36   272298891225.0   \n",
       "\n",
       "  quantity                                   item description        asin  \\\n",
       "0        1  the monument shop kedarnath temple miniature r...  b08nzq922r   \n",
       "1        1  the monument shop baba mahakal sampoorn swaroo...  b08pp95plv   \n",
       "2        1  the monument shop sadhu baba handcrafted desig...  b08p12mwcg   \n",
       "3        1  the monument shop independance day and republi...  b08q23ks8y   \n",
       "4        1  the monument shop kedarnath temple miniature r...  b08nzq922r   \n",
       "\n",
       "  hsn/sac               sku product tax code ship to city ship to state  \\\n",
       "0     nan  kedarnath temple   a_gen_standard    darbhanga         bihar   \n",
       "1     nan           fmk set   a_gen_standard     banswara     rajasthan   \n",
       "2     nan        sadhu baba   a_gen_standard     gurugram       haryana   \n",
       "3     nan      republic set   a_gen_standard        surat       gujarat   \n",
       "4     nan  kedarnath temple   a_gen_standard    bhavnagar       gujarat   \n",
       "\n",
       "  invoice amount payment method code total tax amount  \n",
       "0         -299.0                 cod           -45.61  \n",
       "1        -1100.0                 cod           -167.8  \n",
       "2         -199.0                 cod           -30.36  \n",
       "3         -699.0                 cod          -106.63  \n",
       "4          299.0                 cod            45.61  "
      ]
     },
     "execution_count": 8,
     "metadata": {},
     "output_type": "execute_result"
    }
   ],
   "source": [
    "df.head()"
   ]
  },
  {
   "cell_type": "markdown",
   "id": "0bb3a859",
   "metadata": {},
   "source": [
    "## Data Typing & Extracting Date & Month:"
   ]
  },
  {
   "cell_type": "code",
   "execution_count": 9,
   "id": "8e8f6739",
   "metadata": {},
   "outputs": [
    {
     "data": {
      "text/plain": [
       "0       2020-12-23\n",
       "1       2020-12-24\n",
       "2       2020-12-28\n",
       "3       2020-12-27\n",
       "4       2020-12-31\n",
       "           ...    \n",
       "1841    2021-11-24\n",
       "1842    2021-11-27\n",
       "1843    2021-11-26\n",
       "1844    2021-11-28\n",
       "1845    2021-10-16\n",
       "Name: invoice date, Length: 22369, dtype: object"
      ]
     },
     "execution_count": 9,
     "metadata": {},
     "output_type": "execute_result"
    }
   ],
   "source": [
    "df['invoice date'] = df['invoice date'].astype('datetime64[ns]')   \n",
    "df['invoice date']= df['invoice date'].dt.date\n",
    "df['invoice date'] "
   ]
  },
  {
   "cell_type": "code",
   "execution_count": 10,
   "id": "adc9a2df-a341-4f5e-b171-2399c5184b26",
   "metadata": {
    "scrolled": true
   },
   "outputs": [
    {
     "data": {
      "text/plain": [
       "0       2020-12-23\n",
       "1       2020-12-24\n",
       "2       2020-12-28\n",
       "3       2020-12-27\n",
       "4       2020-12-31\n",
       "           ...    \n",
       "1841    2021-11-24\n",
       "1842    2021-11-27\n",
       "1843    2021-11-26\n",
       "1844    2021-11-28\n",
       "1845    2021-10-16\n",
       "Name: order date, Length: 22369, dtype: object"
      ]
     },
     "execution_count": 10,
     "metadata": {},
     "output_type": "execute_result"
    }
   ],
   "source": [
    "df['order date']=df['order date'].astype('datetime64[ns]') ## Data typing and extracting date and month\n",
    "df['month of order']=df['order date'].dt.month\n",
    "df['order date']=df['order date'].dt.date\n",
    "df['order date']"
   ]
  },
  {
   "cell_type": "markdown",
   "id": "5a342c5f",
   "metadata": {},
   "source": [
    "## `Mapping` the Month as their Respective Name:"
   ]
  },
  {
   "cell_type": "code",
   "execution_count": 11,
   "id": "f6d2ac88-54c1-4098-98f1-eb9fecd6e66c",
   "metadata": {},
   "outputs": [],
   "source": [
    "\n",
    "df[\"month of order\"]=df[\"month of order\"].map({1:\"January\",2:\"February\",3:\"March\",4:\"April\",5:\"May\",6:\"June\",7:\"July\",8:\"August\",9:\"September\",10:\"October\",11:\"November\",12:\"December\"})"
   ]
  },
  {
   "cell_type": "code",
   "execution_count": 12,
   "id": "6de48e79-ce53-4257-8474-af8c94e59b91",
   "metadata": {
    "scrolled": true
   },
   "outputs": [
    {
     "data": {
      "text/plain": [
       "0       2020-12-26\n",
       "1       2020-12-27\n",
       "2       2020-12-30\n",
       "3       2020-12-29\n",
       "4       2021-01-04\n",
       "           ...    \n",
       "1841    2021-11-25\n",
       "1842    2021-11-28\n",
       "1843    2021-11-27\n",
       "1844    2021-11-29\n",
       "1845    2021-10-17\n",
       "Name: shipment date, Length: 22369, dtype: object"
      ]
     },
     "execution_count": 12,
     "metadata": {},
     "output_type": "execute_result"
    }
   ],
   "source": [
    "df['shipment date']=df['shipment date'].astype('datetime64[ns]')\n",
    "df['shipment date']=df['shipment date'].dt.date\n",
    "df['shipment date'] "
   ]
  },
  {
   "cell_type": "code",
   "execution_count": 13,
   "id": "730d1772-994f-4f4e-af4a-33c580ea41d4",
   "metadata": {
    "scrolled": true
   },
   "outputs": [],
   "source": [
    "df[\"quantity\"]=df[\"quantity\"].astype(\"int\")\n",
    "df[\"invoice amount\"]=df[\"invoice amount\"].astype(\"float\")"
   ]
  },
  {
   "cell_type": "markdown",
   "id": "dd16bd5c",
   "metadata": {},
   "source": [
    "## `Replacing` string \"nan\" to proper Null Values:"
   ]
  },
  {
   "cell_type": "code",
   "execution_count": 14,
   "id": "cb021de1",
   "metadata": {},
   "outputs": [],
   "source": [
    "df['item description']=df['item description'].replace('nan', np.NaN)    ## Replacing string 'nan\" to proper null values"
   ]
  },
  {
   "cell_type": "code",
   "execution_count": 15,
   "id": "f55a04ec",
   "metadata": {},
   "outputs": [
    {
     "name": "stdout",
     "output_type": "stream",
     "text": [
      "<class 'pandas.core.frame.DataFrame'>\n",
      "Int64Index: 22369 entries, 0 to 1845\n",
      "Data columns (total 20 columns):\n",
      " #   Column               Non-Null Count  Dtype  \n",
      "---  ------               --------------  -----  \n",
      " 0   invoice number       22369 non-null  object \n",
      " 1   invoice date         22369 non-null  object \n",
      " 2   transaction type     22369 non-null  object \n",
      " 3   order id             22369 non-null  object \n",
      " 4   shipment id          22369 non-null  object \n",
      " 5   shipment date        18026 non-null  object \n",
      " 6   order date           18026 non-null  object \n",
      " 7   shipment item id     22369 non-null  object \n",
      " 8   quantity             22369 non-null  int64  \n",
      " 9   item description     18026 non-null  object \n",
      " 10  asin                 22369 non-null  object \n",
      " 11  hsn/sac              22369 non-null  object \n",
      " 12  sku                  22369 non-null  object \n",
      " 13  product tax code     22369 non-null  object \n",
      " 14  ship to city         22369 non-null  object \n",
      " 15  ship to state        22369 non-null  object \n",
      " 16  invoice amount       22369 non-null  float64\n",
      " 17  payment method code  22369 non-null  object \n",
      " 18  total tax amount     22369 non-null  object \n",
      " 19  month of order       18026 non-null  object \n",
      "dtypes: float64(1), int64(1), object(18)\n",
      "memory usage: 3.6+ MB\n"
     ]
    }
   ],
   "source": [
    "df.info()"
   ]
  },
  {
   "cell_type": "markdown",
   "id": "bacd3542",
   "metadata": {},
   "source": [
    "### `df_cancel` is the data frame with only Cancelled Products:"
   ]
  },
  {
   "cell_type": "code",
   "execution_count": 16,
   "id": "b49eb438",
   "metadata": {},
   "outputs": [],
   "source": [
    "df_cancel=df[df[['item description']].isna().all(1)]"
   ]
  },
  {
   "cell_type": "code",
   "execution_count": 17,
   "id": "6fe91940",
   "metadata": {},
   "outputs": [
    {
     "data": {
      "text/plain": [
       "407-5552185-1024348    9\n",
       "403-7857651-4666723    9\n",
       "404-3411235-8253166    8\n",
       "402-0007201-5633944    7\n",
       "402-9367000-5002702    7\n",
       "                      ..\n",
       "404-4760880-3638750    1\n",
       "406-2940815-0276300    1\n",
       "406-5648059-7361938    1\n",
       "405-2383467-4832365    1\n",
       "403-5006208-4326724    1\n",
       "Name: order id, Length: 3203, dtype: int64"
      ]
     },
     "execution_count": 17,
     "metadata": {},
     "output_type": "execute_result"
    }
   ],
   "source": [
    "df_cancel[\"order id\"].value_counts()"
   ]
  },
  {
   "cell_type": "markdown",
   "id": "bef1bae4",
   "metadata": {},
   "source": [
    "## `Renaming` the Columns:"
   ]
  },
  {
   "cell_type": "code",
   "execution_count": 18,
   "id": "69287f55",
   "metadata": {},
   "outputs": [],
   "source": [
    "df.rename(columns = {'order id':'order_id','shipment id':'shipment_id',\n",
    "                     'shipment item id':'shipment_item_id',\n",
    "                    'order date':'order_date',\n",
    "                    'payment method code':'payment_method_code',\n",
    "                    'month of order':'month_of_order',\n",
    "                    'total tax amount':'total_tax_amount',\n",
    "                    'invoice amount':'invoice_amount',\n",
    "                    'ship to state':'ship_to_state',\n",
    "                    'ship to city':'ship_to_city',\n",
    "                    'product tax code':'product_tax_code',\n",
    "                    'item description':'item_description',\n",
    "                    'shipment date':'shipment_date',\n",
    "                    'invoice number':'invoice_number',\n",
    "                    'invoice date':'invoice_date',\n",
    "                    'transaction type':'transaction_type'}, inplace = True)"
   ]
  },
  {
   "cell_type": "code",
   "execution_count": 19,
   "id": "25bb0de8",
   "metadata": {},
   "outputs": [
    {
     "name": "stderr",
     "output_type": "stream",
     "text": [
      "/var/folders/jw/n6118q9s073_cslq46brdks40000gn/T/ipykernel_2600/2044782914.py:1: SettingWithCopyWarning: \n",
      "A value is trying to be set on a copy of a slice from a DataFrame\n",
      "\n",
      "See the caveats in the documentation: https://pandas.pydata.org/pandas-docs/stable/user_guide/indexing.html#returning-a-view-versus-a-copy\n",
      "  df_cancel.rename(columns = {'shipment id':'shipment_id','order id':'order_id'\n"
     ]
    }
   ],
   "source": [
    "df_cancel.rename(columns = {'shipment id':'shipment_id','order id':'order_id'\n",
    "                     ,'shipment item id':'shipment_item_id',\n",
    "                    'order date':'order_date',\n",
    "                    'payment method code':'payment_method_code',\n",
    "                    'month of order':'month_of_order',\n",
    "                    'total tax amount':'total_tax_amount',\n",
    "                    'invoice amount':'invoice_amount',\n",
    "                    'ship to state':'ship_to_state',\n",
    "                    'ship to city':'ship_to_city',\n",
    "                    'product tax code':'product_tax_code',\n",
    "                    'item description':'item_description',\n",
    "                    'shipment date':'shipment_date',\n",
    "                    'invoice number':'invoice_number',\n",
    "                    'invoice date':'invoice_date',\n",
    "                    'transaction type':'transaction_type'}, inplace = True)"
   ]
  },
  {
   "cell_type": "markdown",
   "id": "dfe1f080",
   "metadata": {},
   "source": [
    "# DATA VISUALIZATION:"
   ]
  },
  {
   "cell_type": "markdown",
   "id": "b3b2e46e",
   "metadata": {},
   "source": [
    "###  1. MOST SOLD ITEMS:"
   ]
  },
  {
   "cell_type": "code",
   "execution_count": 20,
   "id": "4b44bd44",
   "metadata": {},
   "outputs": [
    {
     "data": {
      "text/plain": [
       "149"
      ]
     },
     "execution_count": 20,
     "metadata": {},
     "output_type": "execute_result"
    }
   ],
   "source": [
    "skugroup = df[\"item_description\"].unique()\n",
    "len(skugroup)"
   ]
  },
  {
   "cell_type": "code",
   "execution_count": 21,
   "id": "51a9939f",
   "metadata": {
    "scrolled": true
   },
   "outputs": [
    {
     "data": {
      "text/html": [
       "<div>\n",
       "<style scoped>\n",
       "    .dataframe tbody tr th:only-of-type {\n",
       "        vertical-align: middle;\n",
       "    }\n",
       "\n",
       "    .dataframe tbody tr th {\n",
       "        vertical-align: top;\n",
       "    }\n",
       "\n",
       "    .dataframe thead th {\n",
       "        text-align: right;\n",
       "    }\n",
       "</style>\n",
       "<table border=\"1\" class=\"dataframe\">\n",
       "  <thead>\n",
       "    <tr style=\"text-align: right;\">\n",
       "      <th></th>\n",
       "      <th>sku</th>\n",
       "      <th>item_description</th>\n",
       "      <th>quantity</th>\n",
       "      <th>order_id</th>\n",
       "    </tr>\n",
       "  </thead>\n",
       "  <tbody>\n",
       "    <tr>\n",
       "      <th>0</th>\n",
       "      <td>kedarnath temple</td>\n",
       "      <td>the monument shop kedarnath temple miniature r...</td>\n",
       "      <td>1</td>\n",
       "      <td>405-6906592-3545154</td>\n",
       "    </tr>\n",
       "    <tr>\n",
       "      <th>1</th>\n",
       "      <td>fmk set</td>\n",
       "      <td>the monument shop baba mahakal sampoorn swaroo...</td>\n",
       "      <td>1</td>\n",
       "      <td>406-2676059-6035527</td>\n",
       "    </tr>\n",
       "    <tr>\n",
       "      <th>2</th>\n",
       "      <td>sadhu baba</td>\n",
       "      <td>the monument shop sadhu baba handcrafted desig...</td>\n",
       "      <td>1</td>\n",
       "      <td>405-7039814-7152300</td>\n",
       "    </tr>\n",
       "    <tr>\n",
       "      <th>3</th>\n",
       "      <td>republic set</td>\n",
       "      <td>the monument shop independance day and republi...</td>\n",
       "      <td>1</td>\n",
       "      <td>403-9739410-9827508</td>\n",
       "    </tr>\n",
       "    <tr>\n",
       "      <th>4</th>\n",
       "      <td>kedarnath temple</td>\n",
       "      <td>the monument shop kedarnath temple miniature r...</td>\n",
       "      <td>1</td>\n",
       "      <td>404-2599161-0163525</td>\n",
       "    </tr>\n",
       "    <tr>\n",
       "      <th>5</th>\n",
       "      <td>maa m</td>\n",
       "      <td>the monument shop mata vaishno devi darbar  me...</td>\n",
       "      <td>1</td>\n",
       "      <td>402-1549081-7394709</td>\n",
       "    </tr>\n",
       "    <tr>\n",
       "      <th>6</th>\n",
       "      <td>fmk set</td>\n",
       "      <td>the monument shop baba mahakal sampoorn swaroo...</td>\n",
       "      <td>2</td>\n",
       "      <td>406-3412197-9393907</td>\n",
       "    </tr>\n",
       "    <tr>\n",
       "      <th>7</th>\n",
       "      <td>maa m</td>\n",
       "      <td>the monument shop mata vaishno devi darbar  me...</td>\n",
       "      <td>1</td>\n",
       "      <td>403-3584969-8845103</td>\n",
       "    </tr>\n",
       "    <tr>\n",
       "      <th>8</th>\n",
       "      <td>tms01</td>\n",
       "      <td>the monument shop mata vaishno devi figurine h...</td>\n",
       "      <td>1</td>\n",
       "      <td>171-4492455-5238710</td>\n",
       "    </tr>\n",
       "    <tr>\n",
       "      <th>9</th>\n",
       "      <td>shmk acr</td>\n",
       "      <td>the monument shop baba mahakal shringar swaroo...</td>\n",
       "      <td>1</td>\n",
       "      <td>404-3592142-2483531</td>\n",
       "    </tr>\n",
       "  </tbody>\n",
       "</table>\n",
       "</div>"
      ],
      "text/plain": [
       "                sku                                   item_description  \\\n",
       "0  kedarnath temple  the monument shop kedarnath temple miniature r...   \n",
       "1           fmk set  the monument shop baba mahakal sampoorn swaroo...   \n",
       "2        sadhu baba  the monument shop sadhu baba handcrafted desig...   \n",
       "3      republic set  the monument shop independance day and republi...   \n",
       "4  kedarnath temple  the monument shop kedarnath temple miniature r...   \n",
       "5            maa m   the monument shop mata vaishno devi darbar  me...   \n",
       "6           fmk set  the monument shop baba mahakal sampoorn swaroo...   \n",
       "7            maa m   the monument shop mata vaishno devi darbar  me...   \n",
       "8             tms01  the monument shop mata vaishno devi figurine h...   \n",
       "9          shmk acr  the monument shop baba mahakal shringar swaroo...   \n",
       "\n",
       "   quantity             order_id  \n",
       "0         1  405-6906592-3545154  \n",
       "1         1  406-2676059-6035527  \n",
       "2         1  405-7039814-7152300  \n",
       "3         1  403-9739410-9827508  \n",
       "4         1  404-2599161-0163525  \n",
       "5         1  402-1549081-7394709  \n",
       "6         2  406-3412197-9393907  \n",
       "7         1  403-3584969-8845103  \n",
       "8         1  171-4492455-5238710  \n",
       "9         1  404-3592142-2483531  "
      ]
     },
     "execution_count": 21,
     "metadata": {},
     "output_type": "execute_result"
    }
   ],
   "source": [
    "most_sold = df.loc[:,['sku','item_description','quantity','order_id']]\n",
    "most_sold.head(10)"
   ]
  },
  {
   "cell_type": "markdown",
   "id": "04874f7b",
   "metadata": {},
   "source": [
    "## Pivot table"
   ]
  },
  {
   "cell_type": "code",
   "execution_count": 22,
   "id": "9b6b58cd",
   "metadata": {},
   "outputs": [
    {
     "data": {
      "text/html": [
       "<div>\n",
       "<style scoped>\n",
       "    .dataframe tbody tr th:only-of-type {\n",
       "        vertical-align: middle;\n",
       "    }\n",
       "\n",
       "    .dataframe tbody tr th {\n",
       "        vertical-align: top;\n",
       "    }\n",
       "\n",
       "    .dataframe thead th {\n",
       "        text-align: right;\n",
       "    }\n",
       "</style>\n",
       "<table border=\"1\" class=\"dataframe\">\n",
       "  <thead>\n",
       "    <tr style=\"text-align: right;\">\n",
       "      <th></th>\n",
       "      <th>order_id</th>\n",
       "    </tr>\n",
       "    <tr>\n",
       "      <th>sku</th>\n",
       "      <th></th>\n",
       "    </tr>\n",
       "  </thead>\n",
       "  <tbody>\n",
       "    <tr>\n",
       "      <th>chocolate set</th>\n",
       "      <td>3100</td>\n",
       "    </tr>\n",
       "    <tr>\n",
       "      <th>maa m</th>\n",
       "      <td>1442</td>\n",
       "    </tr>\n",
       "    <tr>\n",
       "      <th>shmk</th>\n",
       "      <td>1319</td>\n",
       "    </tr>\n",
       "    <tr>\n",
       "      <th>ovc ice cream set</th>\n",
       "      <td>1164</td>\n",
       "    </tr>\n",
       "    <tr>\n",
       "      <th>chocolate-set</th>\n",
       "      <td>1018</td>\n",
       "    </tr>\n",
       "    <tr>\n",
       "      <th>3 sweets set</th>\n",
       "      <td>777</td>\n",
       "    </tr>\n",
       "    <tr>\n",
       "      <th>samosa food</th>\n",
       "      <td>738</td>\n",
       "    </tr>\n",
       "    <tr>\n",
       "      <th>tms01</th>\n",
       "      <td>710</td>\n",
       "    </tr>\n",
       "    <tr>\n",
       "      <th>happy meal</th>\n",
       "      <td>453</td>\n",
       "    </tr>\n",
       "    <tr>\n",
       "      <th>khatu shyam</th>\n",
       "      <td>412</td>\n",
       "    </tr>\n",
       "  </tbody>\n",
       "</table>\n",
       "</div>"
      ],
      "text/plain": [
       "                   order_id\n",
       "sku                        \n",
       "chocolate set          3100\n",
       "maa m                  1442\n",
       "shmk                   1319\n",
       "ovc ice cream set      1164\n",
       "chocolate-set          1018\n",
       "3 sweets set            777\n",
       "samosa food             738\n",
       "tms01                   710\n",
       "happy meal              453\n",
       "khatu shyam             412"
      ]
     },
     "execution_count": 22,
     "metadata": {},
     "output_type": "execute_result"
    }
   ],
   "source": [
    "sold = pd.pivot_table(df, index=\"sku\", values=\"order_id\",aggfunc=\"count\").sort_values(by=\"order_id\",ascending=False).head(10)\n",
    "sold"
   ]
  },
  {
   "cell_type": "code",
   "execution_count": 23,
   "id": "ac70e362",
   "metadata": {},
   "outputs": [
    {
     "data": {
      "text/plain": [
       "(array([0, 1, 2, 3, 4, 5, 6, 7, 8, 9]),\n",
       " [Text(0, 0, 'chocolate set'),\n",
       "  Text(1, 0, 'maa m '),\n",
       "  Text(2, 0, 'shmk'),\n",
       "  Text(3, 0, 'ovc ice cream set'),\n",
       "  Text(4, 0, 'chocolate-set'),\n",
       "  Text(5, 0, '3 sweets set'),\n",
       "  Text(6, 0, 'samosa food'),\n",
       "  Text(7, 0, 'tms01'),\n",
       "  Text(8, 0, 'happy meal'),\n",
       "  Text(9, 0, 'khatu shyam')])"
      ]
     },
     "execution_count": 23,
     "metadata": {},
     "output_type": "execute_result"
    },
    {
     "data": {
      "image/png": "[encoded data removed]",
      "text/plain": [
       "<Figure size 720x360 with 1 Axes>"
      ]
     },
     "metadata": {
      "needs_background": "light"
     },
     "output_type": "display_data"
    }
   ],
   "source": [
    "plt.figure(figsize=(10,5))\n",
    "plt.title('most sold items by category')\n",
    "sns.barplot(x=sold.index,y=sold[\"order_id\"])\n",
    "plt.xlabel(\"category\")\n",
    "plt.ylabel(\"count of order id\")\n",
    "plt.xticks(rotation=45)"
   ]
  },
  {
   "cell_type": "markdown",
   "id": "31062f90",
   "metadata": {},
   "source": [
    "### 2. TOP 10 MOST CANCELLED ITEMS:"
   ]
  },
  {
   "cell_type": "code",
   "execution_count": 24,
   "id": "732a744d",
   "metadata": {},
   "outputs": [
    {
     "data": {
      "text/plain": [
       "Text(0.5, 1.0, 'Top 10 most cancelled items')"
      ]
     },
     "execution_count": 24,
     "metadata": {},
     "output_type": "execute_result"
    },
    {
     "data": {
      "image/png": "[encoded data removed]",
      "text/plain": [
       "<Figure size 432x288 with 1 Axes>"
      ]
     },
     "metadata": {
      "needs_background": "light"
     },
     "output_type": "display_data"
    }
   ],
   "source": [
    "df_cancel.sku.value_counts().head(10).plot.bar()\n",
    "plt.title(\"Top 10 most cancelled items\")\n"
   ]
  },
  {
   "cell_type": "markdown",
   "id": "97d64383",
   "metadata": {},
   "source": [
    "## Pivot table"
   ]
  },
  {
   "cell_type": "code",
   "execution_count": 25,
   "id": "da978544",
   "metadata": {},
   "outputs": [
    {
     "data": {
      "text/html": [
       "<div>\n",
       "<style scoped>\n",
       "    .dataframe tbody tr th:only-of-type {\n",
       "        vertical-align: middle;\n",
       "    }\n",
       "\n",
       "    .dataframe tbody tr th {\n",
       "        vertical-align: top;\n",
       "    }\n",
       "\n",
       "    .dataframe thead th {\n",
       "        text-align: right;\n",
       "    }\n",
       "</style>\n",
       "<table border=\"1\" class=\"dataframe\">\n",
       "  <thead>\n",
       "    <tr style=\"text-align: right;\">\n",
       "      <th></th>\n",
       "      <th>order_id</th>\n",
       "    </tr>\n",
       "    <tr>\n",
       "      <th>transaction_type</th>\n",
       "      <th></th>\n",
       "    </tr>\n",
       "  </thead>\n",
       "  <tbody>\n",
       "    <tr>\n",
       "      <th>shipment</th>\n",
       "      <td>11145</td>\n",
       "    </tr>\n",
       "    <tr>\n",
       "      <th>mfnshipment</th>\n",
       "      <td>4928</td>\n",
       "    </tr>\n",
       "    <tr>\n",
       "      <th>cancel</th>\n",
       "      <td>4343</td>\n",
       "    </tr>\n",
       "    <tr>\n",
       "      <th>refund</th>\n",
       "      <td>1796</td>\n",
       "    </tr>\n",
       "    <tr>\n",
       "      <th>freereplacement</th>\n",
       "      <td>157</td>\n",
       "    </tr>\n",
       "  </tbody>\n",
       "</table>\n",
       "</div>"
      ],
      "text/plain": [
       "                  order_id\n",
       "transaction_type          \n",
       "shipment             11145\n",
       "mfnshipment           4928\n",
       "cancel                4343\n",
       "refund                1796\n",
       "freereplacement        157"
      ]
     },
     "execution_count": 25,
     "metadata": {},
     "output_type": "execute_result"
    }
   ],
   "source": [
    "cancelled = pd.pivot_table(df, index=\"transaction_type\", values=\"order_id\",aggfunc=\"count\").sort_values(by=\"order_id\",ascending=False).head(10)\n",
    "cancelled"
   ]
  },
  {
   "cell_type": "code",
   "execution_count": 26,
   "id": "6ff64c0d-924c-4359-8b9d-5c8caf8fde67",
   "metadata": {
    "scrolled": true
   },
   "outputs": [
    {
     "data": {
      "text/plain": [
       "26      171-5073434-8811517\n",
       "27      171-4125308-9054738\n",
       "28      171-4239103-7868322\n",
       "29      171-6440313-4726709\n",
       "30      405-4449785-8184362\n",
       "               ...         \n",
       "1735    404-0872529-8649110\n",
       "1736    407-3140353-9676326\n",
       "1741    407-2827073-7709135\n",
       "1743    408-5608764-4018762\n",
       "1747    403-5006208-4326724\n",
       "Name: order_id, Length: 4343, dtype: object"
      ]
     },
     "execution_count": 26,
     "metadata": {},
     "output_type": "execute_result"
    }
   ],
   "source": [
    "cancel_orders=df_cancel[\"order_id\"]\n",
    "cancel_orders"
   ]
  },
  {
   "cell_type": "markdown",
   "id": "3c5a227f",
   "metadata": {},
   "source": [
    "### Considering those records which are Generating Revenue:"
   ]
  },
  {
   "cell_type": "code",
   "execution_count": 27,
   "id": "6b68a40b-72a2-4eec-9000-a7b0a21331c8",
   "metadata": {},
   "outputs": [],
   "source": [
    "df_no_can=df[~df[\"order_id\"].isin(cancel_orders)] \n"
   ]
  },
  {
   "cell_type": "markdown",
   "id": "81480dd2",
   "metadata": {},
   "source": [
    "## Pivot table"
   ]
  },
  {
   "cell_type": "code",
   "execution_count": 28,
   "id": "4c0db570",
   "metadata": {},
   "outputs": [
    {
     "data": {
      "text/html": [
       "<div>\n",
       "<style scoped>\n",
       "    .dataframe tbody tr th:only-of-type {\n",
       "        vertical-align: middle;\n",
       "    }\n",
       "\n",
       "    .dataframe tbody tr th {\n",
       "        vertical-align: top;\n",
       "    }\n",
       "\n",
       "    .dataframe thead th {\n",
       "        text-align: right;\n",
       "    }\n",
       "</style>\n",
       "<table border=\"1\" class=\"dataframe\">\n",
       "  <thead>\n",
       "    <tr style=\"text-align: right;\">\n",
       "      <th></th>\n",
       "      <th>order_id</th>\n",
       "    </tr>\n",
       "    <tr>\n",
       "      <th>transaction_type</th>\n",
       "      <th></th>\n",
       "    </tr>\n",
       "  </thead>\n",
       "  <tbody>\n",
       "    <tr>\n",
       "      <th>shipment</th>\n",
       "      <td>8121</td>\n",
       "    </tr>\n",
       "    <tr>\n",
       "      <th>mfnshipment</th>\n",
       "      <td>4077</td>\n",
       "    </tr>\n",
       "    <tr>\n",
       "      <th>refund</th>\n",
       "      <td>1514</td>\n",
       "    </tr>\n",
       "    <tr>\n",
       "      <th>freereplacement</th>\n",
       "      <td>157</td>\n",
       "    </tr>\n",
       "  </tbody>\n",
       "</table>\n",
       "</div>"
      ],
      "text/plain": [
       "                  order_id\n",
       "transaction_type          \n",
       "shipment              8121\n",
       "mfnshipment           4077\n",
       "refund                1514\n",
       "freereplacement        157"
      ]
     },
     "execution_count": 28,
     "metadata": {},
     "output_type": "execute_result"
    }
   ],
   "source": [
    "revenue = pd.pivot_table(df_no_can, index=\"transaction_type\", values=\"order_id\",aggfunc=\"count\").sort_values(by=\"order_id\",ascending=False).head(10)\n",
    "revenue"
   ]
  },
  {
   "cell_type": "markdown",
   "id": "77b80847",
   "metadata": {},
   "source": [
    "### Creating a new Column Revenue for each item:"
   ]
  },
  {
   "cell_type": "code",
   "execution_count": 29,
   "id": "fb2770b2-3008-4023-a4de-8338e48def92",
   "metadata": {
    "scrolled": true
   },
   "outputs": [
    {
     "name": "stderr",
     "output_type": "stream",
     "text": [
      "/var/folders/jw/n6118q9s073_cslq46brdks40000gn/T/ipykernel_2600/2934330297.py:1: SettingWithCopyWarning: \n",
      "A value is trying to be set on a copy of a slice from a DataFrame.\n",
      "Try using .loc[row_indexer,col_indexer] = value instead\n",
      "\n",
      "See the caveats in the documentation: https://pandas.pydata.org/pandas-docs/stable/user_guide/indexing.html#returning-a-view-versus-a-copy\n",
      "  df_no_can[\"revenue\"]=df_no_can.loc[:,\"quantity\"]*df_no_can.loc[:,\"invoice_amount\"]\n"
     ]
    }
   ],
   "source": [
    "df_no_can[\"revenue\"]=df_no_can.loc[:,\"quantity\"]*df_no_can.loc[:,\"invoice_amount\"] \n"
   ]
  },
  {
   "cell_type": "markdown",
   "id": "8d51fa05",
   "metadata": {},
   "source": [
    "### 3 .TOP 10 REVENUE GENERATING ITEMS:"
   ]
  },
  {
   "cell_type": "code",
   "execution_count": 30,
   "id": "05a445a3-7f30-4f95-9a82-d8c1f202b2fb",
   "metadata": {},
   "outputs": [
    {
     "data": {
      "text/plain": [
       "Text(0.5, 1.0, 'top 10 revenue generating items')"
      ]
     },
     "execution_count": 30,
     "metadata": {},
     "output_type": "execute_result"
    },
    {
     "data": {
      "image/png": "[encoded data removed]",
      "text/plain": [
       "<Figure size 432x288 with 1 Axes>"
      ]
     },
     "metadata": {
      "needs_background": "light"
     },
     "output_type": "display_data"
    }
   ],
   "source": [
    "df_no_can.groupby(by=\"sku\").agg({\"revenue\":\"sum\"}).sort_values(by=\"revenue\",ascending=False).head(10).plot.bar()\n",
    "plt.title(\"top 10 revenue generating items\")\n"
   ]
  },
  {
   "cell_type": "markdown",
   "id": "f60c7b84",
   "metadata": {},
   "source": [
    "### Pivot Table to check the Number of Orders from Each State:"
   ]
  },
  {
   "cell_type": "code",
   "execution_count": 31,
   "id": "e955ff49-03ad-4cb9-b27d-daa97db58284",
   "metadata": {},
   "outputs": [
    {
     "data": {
      "text/html": [
       "<div>\n",
       "<style scoped>\n",
       "    .dataframe tbody tr th:only-of-type {\n",
       "        vertical-align: middle;\n",
       "    }\n",
       "\n",
       "    .dataframe tbody tr th {\n",
       "        vertical-align: top;\n",
       "    }\n",
       "\n",
       "    .dataframe thead th {\n",
       "        text-align: right;\n",
       "    }\n",
       "</style>\n",
       "<table border=\"1\" class=\"dataframe\">\n",
       "  <thead>\n",
       "    <tr style=\"text-align: right;\">\n",
       "      <th></th>\n",
       "      <th>order_id</th>\n",
       "    </tr>\n",
       "    <tr>\n",
       "      <th>ship_to_state</th>\n",
       "      <th></th>\n",
       "    </tr>\n",
       "  </thead>\n",
       "  <tbody>\n",
       "    <tr>\n",
       "      <th>maharashtra</th>\n",
       "      <td>3367</td>\n",
       "    </tr>\n",
       "    <tr>\n",
       "      <th>uttar pradesh</th>\n",
       "      <td>2720</td>\n",
       "    </tr>\n",
       "    <tr>\n",
       "      <th>karnataka</th>\n",
       "      <td>1941</td>\n",
       "    </tr>\n",
       "    <tr>\n",
       "      <th>delhi</th>\n",
       "      <td>1818</td>\n",
       "    </tr>\n",
       "    <tr>\n",
       "      <th>tamil nadu</th>\n",
       "      <td>1423</td>\n",
       "    </tr>\n",
       "    <tr>\n",
       "      <th>haryana</th>\n",
       "      <td>1403</td>\n",
       "    </tr>\n",
       "    <tr>\n",
       "      <th>west bengal</th>\n",
       "      <td>1378</td>\n",
       "    </tr>\n",
       "    <tr>\n",
       "      <th>telangana</th>\n",
       "      <td>1293</td>\n",
       "    </tr>\n",
       "    <tr>\n",
       "      <th>gujarat</th>\n",
       "      <td>1124</td>\n",
       "    </tr>\n",
       "    <tr>\n",
       "      <th>madhya pradesh</th>\n",
       "      <td>1021</td>\n",
       "    </tr>\n",
       "  </tbody>\n",
       "</table>\n",
       "</div>"
      ],
      "text/plain": [
       "                order_id\n",
       "ship_to_state           \n",
       "maharashtra         3367\n",
       "uttar pradesh       2720\n",
       "karnataka           1941\n",
       "delhi               1818\n",
       "tamil nadu          1423\n",
       "haryana             1403\n",
       "west bengal         1378\n",
       "telangana           1293\n",
       "gujarat             1124\n",
       "madhya pradesh      1021"
      ]
     },
     "execution_count": 31,
     "metadata": {},
     "output_type": "execute_result"
    }
   ],
   "source": [
    "state_order=pd.pivot_table(df,index=\"ship_to_state\",values=\"order_id\",aggfunc=\"count\").sort_values(by=\"order_id\",ascending=False).head(10)\n",
    "state_order"
   ]
  },
  {
   "cell_type": "markdown",
   "id": "9a5728e9",
   "metadata": {},
   "source": [
    "### 4 .TOP 10 STATES WITH MOST ORDERS:"
   ]
  },
  {
   "cell_type": "code",
   "execution_count": 32,
   "id": "8a6aefe7-a722-4e11-a493-c4776504f034",
   "metadata": {
    "scrolled": true
   },
   "outputs": [
    {
     "data": {
      "text/plain": [
       "<AxesSubplot:title={'center':'Top 10 states with most orders'}, xlabel='ship_to_state', ylabel='order_id'>"
      ]
     },
     "execution_count": 32,
     "metadata": {},
     "output_type": "execute_result"
    },
    {
     "data": {
      "image/png": "[encoded data removed]",
      "text/plain": [
       "<Figure size 432x288 with 1 Axes>"
      ]
     },
     "metadata": {
      "needs_background": "light"
     },
     "output_type": "display_data"
    }
   ],
   "source": [
    "plt.title(\"Top 10 states with most orders\")\n",
    "plt.xticks(rotation=45)\n",
    "sns.barplot(x=state_order.index,y=state_order[\"order_id\"])\n"
   ]
  },
  {
   "cell_type": "markdown",
   "id": "372cd172",
   "metadata": {},
   "source": [
    "## Pivot table"
   ]
  },
  {
   "cell_type": "code",
   "execution_count": 33,
   "id": "eb855011",
   "metadata": {},
   "outputs": [
    {
     "data": {
      "text/html": [
       "<div>\n",
       "<style scoped>\n",
       "    .dataframe tbody tr th:only-of-type {\n",
       "        vertical-align: middle;\n",
       "    }\n",
       "\n",
       "    .dataframe tbody tr th {\n",
       "        vertical-align: top;\n",
       "    }\n",
       "\n",
       "    .dataframe thead th {\n",
       "        text-align: right;\n",
       "    }\n",
       "</style>\n",
       "<table border=\"1\" class=\"dataframe\">\n",
       "  <thead>\n",
       "    <tr style=\"text-align: right;\">\n",
       "      <th></th>\n",
       "      <th>order_id</th>\n",
       "    </tr>\n",
       "    <tr>\n",
       "      <th>ship_to_state</th>\n",
       "      <th></th>\n",
       "    </tr>\n",
       "  </thead>\n",
       "  <tbody>\n",
       "    <tr>\n",
       "      <th>maharashtra</th>\n",
       "      <td>3367</td>\n",
       "    </tr>\n",
       "    <tr>\n",
       "      <th>uttar pradesh</th>\n",
       "      <td>2720</td>\n",
       "    </tr>\n",
       "    <tr>\n",
       "      <th>karnataka</th>\n",
       "      <td>1941</td>\n",
       "    </tr>\n",
       "    <tr>\n",
       "      <th>delhi</th>\n",
       "      <td>1818</td>\n",
       "    </tr>\n",
       "    <tr>\n",
       "      <th>tamil nadu</th>\n",
       "      <td>1423</td>\n",
       "    </tr>\n",
       "    <tr>\n",
       "      <th>haryana</th>\n",
       "      <td>1403</td>\n",
       "    </tr>\n",
       "    <tr>\n",
       "      <th>west bengal</th>\n",
       "      <td>1378</td>\n",
       "    </tr>\n",
       "    <tr>\n",
       "      <th>telangana</th>\n",
       "      <td>1293</td>\n",
       "    </tr>\n",
       "    <tr>\n",
       "      <th>gujarat</th>\n",
       "      <td>1124</td>\n",
       "    </tr>\n",
       "    <tr>\n",
       "      <th>madhya pradesh</th>\n",
       "      <td>1021</td>\n",
       "    </tr>\n",
       "  </tbody>\n",
       "</table>\n",
       "</div>"
      ],
      "text/plain": [
       "                order_id\n",
       "ship_to_state           \n",
       "maharashtra         3367\n",
       "uttar pradesh       2720\n",
       "karnataka           1941\n",
       "delhi               1818\n",
       "tamil nadu          1423\n",
       "haryana             1403\n",
       "west bengal         1378\n",
       "telangana           1293\n",
       "gujarat             1124\n",
       "madhya pradesh      1021"
      ]
     },
     "execution_count": 33,
     "metadata": {},
     "output_type": "execute_result"
    }
   ],
   "source": [
    "state_order =pd.pivot_table(df,index=\"ship_to_state\",values=\"order_id\",aggfunc=\"count\").sort_values(by=\"order_id\",ascending=False).head(10)\n",
    "state_order\n"
   ]
  },
  {
   "cell_type": "markdown",
   "id": "915dda38",
   "metadata": {},
   "source": [
    "## 5. TOP 10 CITY WITH MOST ORDERS:"
   ]
  },
  {
   "cell_type": "code",
   "execution_count": 47,
   "id": "3a7a72ea-573b-4d60-a97a-90729237299a",
   "metadata": {
    "scrolled": true
   },
   "outputs": [
    {
     "data": {
      "text/plain": [
       "<AxesSubplot:title={'center':'Top 10 city with most orders'}, xlabel='ship_to_city', ylabel='order_id'>"
      ]
     },
     "execution_count": 47,
     "metadata": {},
     "output_type": "execute_result"
    },
    {
     "data": {
      "image/png": "[encoded data removed]",
      "text/plain": [
       "<Figure size 432x288 with 1 Axes>"
      ]
     },
     "metadata": {
      "needs_background": "light"
     },
     "output_type": "display_data"
    }
   ],
   "source": [
    "plt.title(\"Top 10 city with most orders\")\n",
    "plt.xticks(rotation=45)\n",
    "sns.barplot(x=city_order.index,y=city_order[\"order_id\"])\n"
   ]
  },
  {
   "cell_type": "markdown",
   "id": "b1785f8d",
   "metadata": {},
   "source": [
    "### Pivot Table to check the Number of Orders from each City:"
   ]
  },
  {
   "cell_type": "code",
   "execution_count": 46,
   "id": "dd74deb7-b631-4d02-8ed3-e82b3feb08f0",
   "metadata": {
    "scrolled": true
   },
   "outputs": [
    {
     "data": {
      "text/html": [
       "<div>\n",
       "<style scoped>\n",
       "    .dataframe tbody tr th:only-of-type {\n",
       "        vertical-align: middle;\n",
       "    }\n",
       "\n",
       "    .dataframe tbody tr th {\n",
       "        vertical-align: top;\n",
       "    }\n",
       "\n",
       "    .dataframe thead th {\n",
       "        text-align: right;\n",
       "    }\n",
       "</style>\n",
       "<table border=\"1\" class=\"dataframe\">\n",
       "  <thead>\n",
       "    <tr style=\"text-align: right;\">\n",
       "      <th></th>\n",
       "      <th>order_id</th>\n",
       "    </tr>\n",
       "    <tr>\n",
       "      <th>ship_to_city</th>\n",
       "      <th></th>\n",
       "    </tr>\n",
       "  </thead>\n",
       "  <tbody>\n",
       "    <tr>\n",
       "      <th>new delhi</th>\n",
       "      <td>1620</td>\n",
       "    </tr>\n",
       "    <tr>\n",
       "      <th>bengaluru</th>\n",
       "      <td>1423</td>\n",
       "    </tr>\n",
       "    <tr>\n",
       "      <th>mumbai</th>\n",
       "      <td>1228</td>\n",
       "    </tr>\n",
       "    <tr>\n",
       "      <th>hyderabad</th>\n",
       "      <td>1095</td>\n",
       "    </tr>\n",
       "    <tr>\n",
       "      <th>chennai</th>\n",
       "      <td>781</td>\n",
       "    </tr>\n",
       "    <tr>\n",
       "      <th>kolkata</th>\n",
       "      <td>734</td>\n",
       "    </tr>\n",
       "    <tr>\n",
       "      <th>pune</th>\n",
       "      <td>581</td>\n",
       "    </tr>\n",
       "    <tr>\n",
       "      <th>gurugram</th>\n",
       "      <td>549</td>\n",
       "    </tr>\n",
       "    <tr>\n",
       "      <th>noida</th>\n",
       "      <td>383</td>\n",
       "    </tr>\n",
       "    <tr>\n",
       "      <th>lucknow</th>\n",
       "      <td>342</td>\n",
       "    </tr>\n",
       "  </tbody>\n",
       "</table>\n",
       "</div>"
      ],
      "text/plain": [
       "              order_id\n",
       "ship_to_city          \n",
       "new delhi         1620\n",
       "bengaluru         1423\n",
       "mumbai            1228\n",
       "hyderabad         1095\n",
       "chennai            781\n",
       "kolkata            734\n",
       "pune               581\n",
       "gurugram           549\n",
       "noida              383\n",
       "lucknow            342"
      ]
     },
     "execution_count": 46,
     "metadata": {},
     "output_type": "execute_result"
    }
   ],
   "source": [
    "city_order=pd.pivot_table(df,index=\"ship_to_city\",values=\"order_id\",aggfunc=\"count\").sort_values(by=\"order_id\",ascending=False).head(10)\n",
    "city_order\n"
   ]
  },
  {
   "cell_type": "markdown",
   "id": "c3156d7e",
   "metadata": {},
   "source": [
    "## 6. MONTHLY SALE:"
   ]
  },
  {
   "cell_type": "code",
   "execution_count": 41,
   "id": "50d640b5-e3fa-460e-8060-9de806898afb",
   "metadata": {
    "scrolled": true
   },
   "outputs": [
    {
     "data": {
      "image/png": "[encoded data removed]",
      "text/plain": [
       "<Figure size 576x504 with 1 Axes>"
      ]
     },
     "metadata": {
      "needs_background": "light"
     },
     "output_type": "display_data"
    }
   ],
   "source": [
    "plt.figure(figsize=(8,7))\n",
    "plt.title(\"Monthwise Sale\")\n",
    "sns.lineplot(x= monthly_sales.index,y=monthly_sales[\"order_id\"])\n",
    "plt.xticks(rotation=45)\n",
    "plt.show()\n"
   ]
  },
  {
   "cell_type": "markdown",
   "id": "98ccd97a",
   "metadata": {},
   "source": [
    "## Pivot table"
   ]
  },
  {
   "cell_type": "code",
   "execution_count": 36,
   "id": "a00e624c",
   "metadata": {},
   "outputs": [
    {
     "data": {
      "text/html": [
       "<div>\n",
       "<style scoped>\n",
       "    .dataframe tbody tr th:only-of-type {\n",
       "        vertical-align: middle;\n",
       "    }\n",
       "\n",
       "    .dataframe tbody tr th {\n",
       "        vertical-align: top;\n",
       "    }\n",
       "\n",
       "    .dataframe thead th {\n",
       "        text-align: right;\n",
       "    }\n",
       "</style>\n",
       "<table border=\"1\" class=\"dataframe\">\n",
       "  <thead>\n",
       "    <tr style=\"text-align: right;\">\n",
       "      <th></th>\n",
       "      <th>order_id</th>\n",
       "    </tr>\n",
       "    <tr>\n",
       "      <th>month_of_order</th>\n",
       "      <th></th>\n",
       "    </tr>\n",
       "  </thead>\n",
       "  <tbody>\n",
       "    <tr>\n",
       "      <th>April</th>\n",
       "      <td>707</td>\n",
       "    </tr>\n",
       "    <tr>\n",
       "      <th>August</th>\n",
       "      <td>1120</td>\n",
       "    </tr>\n",
       "    <tr>\n",
       "      <th>December</th>\n",
       "      <td>1409</td>\n",
       "    </tr>\n",
       "    <tr>\n",
       "      <th>February</th>\n",
       "      <td>496</td>\n",
       "    </tr>\n",
       "    <tr>\n",
       "      <th>January</th>\n",
       "      <td>534</td>\n",
       "    </tr>\n",
       "    <tr>\n",
       "      <th>July</th>\n",
       "      <td>2349</td>\n",
       "    </tr>\n",
       "    <tr>\n",
       "      <th>June</th>\n",
       "      <td>1406</td>\n",
       "    </tr>\n",
       "    <tr>\n",
       "      <th>March</th>\n",
       "      <td>606</td>\n",
       "    </tr>\n",
       "    <tr>\n",
       "      <th>May</th>\n",
       "      <td>738</td>\n",
       "    </tr>\n",
       "    <tr>\n",
       "      <th>November</th>\n",
       "      <td>1375</td>\n",
       "    </tr>\n",
       "    <tr>\n",
       "      <th>October</th>\n",
       "      <td>1752</td>\n",
       "    </tr>\n",
       "    <tr>\n",
       "      <th>September</th>\n",
       "      <td>1377</td>\n",
       "    </tr>\n",
       "  </tbody>\n",
       "</table>\n",
       "</div>"
      ],
      "text/plain": [
       "                order_id\n",
       "month_of_order          \n",
       "April                707\n",
       "August              1120\n",
       "December            1409\n",
       "February             496\n",
       "January              534\n",
       "July                2349\n",
       "June                1406\n",
       "March                606\n",
       "May                  738\n",
       "November            1375\n",
       "October             1752\n",
       "September           1377"
      ]
     },
     "execution_count": 36,
     "metadata": {},
     "output_type": "execute_result"
    }
   ],
   "source": [
    "monthly_sales=pd.pivot_table(df_no_can,index=\"month_of_order\",values=[\"order_id\"],aggfunc=({\"order_id\":\"count\"}))\n",
    "monthly_sales\n"
   ]
  },
  {
   "cell_type": "markdown",
   "id": "a50e5ef9",
   "metadata": {},
   "source": [
    "## 7. MONTHWISE REVENUE GENERATED:"
   ]
  },
  {
   "cell_type": "code",
   "execution_count": 40,
   "id": "5414453e-d363-48e3-b67c-50e12effbc8c",
   "metadata": {
    "scrolled": true
   },
   "outputs": [
    {
     "data": {
      "image/png": "[encoded data removed]",
      "text/plain": [
       "<Figure size 576x504 with 1 Axes>"
      ]
     },
     "metadata": {
      "needs_background": "light"
     },
     "output_type": "display_data"
    }
   ],
   "source": [
    "plt.figure(figsize=(8,7))\n",
    "plt.title(\"Monthwise revenue generated\")\n",
    "sns.lineplot(x=monthly_sales_revenue.index,y= monthly_sales_revenue[\"revenue\"])\n",
    "plt.xticks(rotation=45)\n",
    "plt.show()"
   ]
  },
  {
   "cell_type": "markdown",
   "id": "c12fd096",
   "metadata": {},
   "source": [
    "### Pivot Table has two columns as Count of Orders and Total Revenue:"
   ]
  },
  {
   "cell_type": "code",
   "execution_count": 42,
   "id": "3c259059-a8f3-47c7-ab4a-b8f367971e0c",
   "metadata": {
    "scrolled": true
   },
   "outputs": [
    {
     "data": {
      "text/html": [
       "<div>\n",
       "<style scoped>\n",
       "    .dataframe tbody tr th:only-of-type {\n",
       "        vertical-align: middle;\n",
       "    }\n",
       "\n",
       "    .dataframe tbody tr th {\n",
       "        vertical-align: top;\n",
       "    }\n",
       "\n",
       "    .dataframe thead th {\n",
       "        text-align: right;\n",
       "    }\n",
       "</style>\n",
       "<table border=\"1\" class=\"dataframe\">\n",
       "  <thead>\n",
       "    <tr style=\"text-align: right;\">\n",
       "      <th></th>\n",
       "      <th>order_id</th>\n",
       "      <th>revenue</th>\n",
       "    </tr>\n",
       "    <tr>\n",
       "      <th>month_of_order</th>\n",
       "      <th></th>\n",
       "      <th></th>\n",
       "    </tr>\n",
       "  </thead>\n",
       "  <tbody>\n",
       "    <tr>\n",
       "      <th>April</th>\n",
       "      <td>707</td>\n",
       "      <td>232739.0</td>\n",
       "    </tr>\n",
       "    <tr>\n",
       "      <th>August</th>\n",
       "      <td>1120</td>\n",
       "      <td>407748.0</td>\n",
       "    </tr>\n",
       "    <tr>\n",
       "      <th>December</th>\n",
       "      <td>1409</td>\n",
       "      <td>456739.6</td>\n",
       "    </tr>\n",
       "    <tr>\n",
       "      <th>February</th>\n",
       "      <td>496</td>\n",
       "      <td>185189.0</td>\n",
       "    </tr>\n",
       "    <tr>\n",
       "      <th>January</th>\n",
       "      <td>534</td>\n",
       "      <td>230927.0</td>\n",
       "    </tr>\n",
       "    <tr>\n",
       "      <th>July</th>\n",
       "      <td>2349</td>\n",
       "      <td>726336.0</td>\n",
       "    </tr>\n",
       "    <tr>\n",
       "      <th>June</th>\n",
       "      <td>1406</td>\n",
       "      <td>437357.0</td>\n",
       "    </tr>\n",
       "    <tr>\n",
       "      <th>March</th>\n",
       "      <td>606</td>\n",
       "      <td>237041.0</td>\n",
       "    </tr>\n",
       "    <tr>\n",
       "      <th>May</th>\n",
       "      <td>738</td>\n",
       "      <td>301056.0</td>\n",
       "    </tr>\n",
       "    <tr>\n",
       "      <th>November</th>\n",
       "      <td>1375</td>\n",
       "      <td>503013.0</td>\n",
       "    </tr>\n",
       "    <tr>\n",
       "      <th>October</th>\n",
       "      <td>1752</td>\n",
       "      <td>546697.0</td>\n",
       "    </tr>\n",
       "    <tr>\n",
       "      <th>September</th>\n",
       "      <td>1377</td>\n",
       "      <td>421467.0</td>\n",
       "    </tr>\n",
       "  </tbody>\n",
       "</table>\n",
       "</div>"
      ],
      "text/plain": [
       "                order_id   revenue\n",
       "month_of_order                    \n",
       "April                707  232739.0\n",
       "August              1120  407748.0\n",
       "December            1409  456739.6\n",
       "February             496  185189.0\n",
       "January              534  230927.0\n",
       "July                2349  726336.0\n",
       "June                1406  437357.0\n",
       "March                606  237041.0\n",
       "May                  738  301056.0\n",
       "November            1375  503013.0\n",
       "October             1752  546697.0\n",
       "September           1377  421467.0"
      ]
     },
     "execution_count": 42,
     "metadata": {},
     "output_type": "execute_result"
    }
   ],
   "source": [
    "monthly_sales_revenue=pd.pivot_table(df_no_can,index=\"month_of_order\",values=[\"order_id\",\"revenue\"],aggfunc=({\"order_id\":\"count\",\"revenue\":\"sum\"}))\n",
    "monthly_sales_revenue\n"
   ]
  },
  {
   "cell_type": "markdown",
   "id": "3b3101a7",
   "metadata": {},
   "source": [
    "## 8. TAX AMOUNT PAID PER MONTH:"
   ]
  },
  {
   "cell_type": "code",
   "execution_count": 43,
   "id": "4c6fc84d-5206-4303-89c8-21f7866430e2",
   "metadata": {},
   "outputs": [],
   "source": [
    "df['total_tax_amount']=df['total_tax_amount'].astype(float)"
   ]
  },
  {
   "cell_type": "code",
   "execution_count": 44,
   "id": "c00172d6",
   "metadata": {},
   "outputs": [
    {
     "data": {
      "text/plain": [
       "month_of_order\n",
       "April         36135.63\n",
       "August        59859.21\n",
       "December      65120.75\n",
       "February      29048.26\n",
       "January       33189.64\n",
       "July         109874.55\n",
       "June          73086.57\n",
       "March         32922.75\n",
       "May           35627.18\n",
       "November      67913.19\n",
       "October       88616.82\n",
       "September     71698.29\n",
       "Name: total_tax_amount, dtype: float64"
      ]
     },
     "execution_count": 44,
     "metadata": {},
     "output_type": "execute_result"
    }
   ],
   "source": [
    "tax_paid_per_month=df.groupby('month_of_order')['total_tax_amount'].sum()\n",
    "tax_paid_per_month"
   ]
  },
  {
   "cell_type": "code",
   "execution_count": 45,
   "id": "86d5c604",
   "metadata": {},
   "outputs": [
    {
     "data": {
      "text/plain": [
       "Text(0, 0.5, 'total_tax_amount')"
      ]
     },
     "execution_count": 45,
     "metadata": {},
     "output_type": "execute_result"
    },
    {
     "data": {
      "image/png": "[encoded data removed]",
      "text/plain": [
       "<Figure size 432x288 with 1 Axes>"
      ]
     },
     "metadata": {
      "needs_background": "light"
     },
     "output_type": "display_data"
    }
   ],
   "source": [
    "tax_paid_per_month.plot();\n",
    "\n",
    "plt.title(' total tax paid for each month')\n",
    "plt.xlabel(\"Month\")\n",
    "plt.ylabel(\"total_tax_amount\")"
   ]
  },
  {
   "cell_type": "code",
   "execution_count": null,
   "id": "fb3c7c42",
   "metadata": {},
   "outputs": [],
   "source": []
  },
  {
   "cell_type": "code",
   "execution_count": null,
   "id": "b25c2239",
   "metadata": {},
   "outputs": [],
   "source": []
  },
  {
   "cell_type": "code",
   "execution_count": null,
   "id": "ef258082",
   "metadata": {},
   "outputs": [],
   "source": []
  },
  {
   "cell_type": "code",
   "execution_count": null,
   "id": "195d5f2f",
   "metadata": {},
   "outputs": [],
   "source": []
  },
  {
   "cell_type": "code",
   "execution_count": null,
   "id": "09f47d10",
   "metadata": {},
   "outputs": [],
   "source": []
  },
  {
   "cell_type": "code",
   "execution_count": null,
   "id": "e3c5508e",
   "metadata": {},
   "outputs": [],
   "source": []
  }
 ],
 "metadata": {
  "kernelspec": {
   "display_name": "Python 3 (ipykernel)",
   "language": "python",
   "name": "python3"
  },
  "language_info": {
   "codemirror_mode": {
    "name": "ipython",
    "version": 3
   },
   "file_extension": ".py",
   "mimetype": "text/x-python",
   "name": "python",
   "nbconvert_exporter": "python",
   "pygments_lexer": "ipython3",
   "version": "3.9.12"
  }
 },
 "nbformat": 4,
 "nbformat_minor": 5
}
